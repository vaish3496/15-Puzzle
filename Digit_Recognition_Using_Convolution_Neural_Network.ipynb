{
  "nbformat": 4,
  "nbformat_minor": 0,
  "metadata": {
    "colab": {
      "name": "Digit-Recognition-Using-Convolution-Neural-Network.ipynb",
      "provenance": [],
      "authorship_tag": "ABX9TyPVjfSWYCIo+dNfjbLRVXVs",
      "include_colab_link": true
    },
    "kernelspec": {
      "name": "python3",
      "display_name": "Python 3"
    }
  },
  "cells": [
    {
      "cell_type": "markdown",
      "metadata": {
        "id": "view-in-github",
        "colab_type": "text"
      },
      "source": [
        "<a href=\"https://colab.research.google.com/github/vaish3496/15-Puzzle/blob/master/Digit_Recognition_Using_Convolution_Neural_Network.ipynb\" target=\"_parent\"><img src=\"https://colab.research.google.com/assets/colab-badge.svg\" alt=\"Open In Colab\"/></a>"
      ]
    },
    {
      "cell_type": "code",
      "metadata": {
        "id": "AoS31QyAI40f"
      },
      "source": [
        "import numpy as np\r\n"
      ],
      "execution_count": null,
      "outputs": []
    },
    {
      "cell_type": "code",
      "metadata": {
        "id": "p07GUq7BJGTM"
      },
      "source": [
        "from keras.models import Sequential\r\n",
        "from keras.layers import Convolution2D, MaxPooling2D\r\n",
        "from keras.layers import Flatten, Dense\r\n",
        "from keras import datasets\r\n",
        "from keras.utils import to_categorical"
      ],
      "execution_count": null,
      "outputs": []
    },
    {
      "cell_type": "code",
      "metadata": {
        "id": "wdBvi07qJVvl"
      },
      "source": [
        "import matplotlib.pyplot as plt\r\n"
      ],
      "execution_count": null,
      "outputs": []
    },
    {
      "cell_type": "code",
      "metadata": {
        "id": "ve7WCj2LJhKZ"
      },
      "source": [
        "(train_data, train_label), (test_data, test_label) = datasets.mnist.load_data()"
      ],
      "execution_count": null,
      "outputs": []
    },
    {
      "cell_type": "code",
      "metadata": {
        "colab": {
          "base_uri": "https://localhost:8080/"
        },
        "id": "i7kfn7F2J2aE",
        "outputId": "d24fd68b-2c21-4256-da6e-1f256f14135e"
      },
      "source": [
        "print(len(train_data),len(test_data))"
      ],
      "execution_count": null,
      "outputs": [
        {
          "output_type": "stream",
          "text": [
            "60000 10000\n"
          ],
          "name": "stdout"
        }
      ]
    },
    {
      "cell_type": "code",
      "metadata": {
        "colab": {
          "base_uri": "https://localhost:8080/"
        },
        "id": "TIH-JvJ9J-Ai",
        "outputId": "81a179d3-f70c-43e4-acb5-0d2cf169d17f"
      },
      "source": [
        "train_data[0].shape"
      ],
      "execution_count": null,
      "outputs": [
        {
          "output_type": "execute_result",
          "data": {
            "text/plain": [
              "(28, 28)"
            ]
          },
          "metadata": {
            "tags": []
          },
          "execution_count": 9
        }
      ]
    },
    {
      "cell_type": "code",
      "metadata": {
        "colab": {
          "base_uri": "https://localhost:8080/",
          "height": 292
        },
        "id": "CEOBZRdXKJO7",
        "outputId": "4ae11c28-4449-427a-95e1-dcd9a0cdcc2f"
      },
      "source": [
        "plt.matshow(train_data[0])"
      ],
      "execution_count": null,
      "outputs": [
        {
          "output_type": "execute_result",
          "data": {
            "text/plain": [
              "<matplotlib.image.AxesImage at 0x7f28a0448710>"
            ]
          },
          "metadata": {
            "tags": []
          },
          "execution_count": 7
        },
        {
          "output_type": "display_data",
          "data": {
            "image/png": "[encoded data removed]",
            "text/plain": [
              "<Figure size 288x288 with 1 Axes>"
            ]
          },
          "metadata": {
            "tags": [],
            "needs_background": "light"
          }
        }
      ]
    },
    {
      "cell_type": "code",
      "metadata": {
        "colab": {
          "base_uri": "https://localhost:8080/"
        },
        "id": "tHc3me0wKYs9",
        "outputId": "527ca14e-9d5c-4070-dce1-d93a2233e4ef"
      },
      "source": [
        "train_label[0]"
      ],
      "execution_count": null,
      "outputs": [
        {
          "output_type": "execute_result",
          "data": {
            "text/plain": [
              "5"
            ]
          },
          "metadata": {
            "tags": []
          },
          "execution_count": 8
        }
      ]
    },
    {
      "cell_type": "code",
      "metadata": {
        "colab": {
          "base_uri": "https://localhost:8080/"
        },
        "id": "96IH0U15KdF9",
        "outputId": "aa83a974-eb25-4e49-b2d9-27756f25c968"
      },
      "source": [
        "train_data = train_data.astype('float32')\r\n",
        "test_data = test_data.astype('float32')\r\n",
        "\r\n",
        "train_data = train_data / 255\r\n",
        "test_data = test_data / 255\r\n",
        "\r\n",
        "train_data = train_data.reshape(train_data.shape[0],28,28,1)\r\n",
        "test_data = test_data.reshape(test_data.shape[0],28,28,1)\r\n",
        "\r\n",
        "print(train_label.shape)\r\n",
        "\r\n",
        "train_label = to_categorical(train_label,10)\r\n",
        "test_label = to_categorical(test_label,10)\r\n",
        "\r\n",
        "print(train_label.shape)"
      ],
      "execution_count": null,
      "outputs": [
        {
          "output_type": "stream",
          "text": [
            "(60000,)\n",
            "(60000, 10)\n"
          ],
          "name": "stdout"
        }
      ]
    },
    {
      "cell_type": "code",
      "metadata": {
        "id": "Ld3MHuT1Klt6"
      },
      "source": [
        "def CNN():\r\n",
        "  model = Sequential()\r\n",
        "  model.add(Convolution2D(8,3,activation='relu',input_shape=(28,28,1)))\r\n",
        "  model.add(MaxPooling2D(pool_size=(2,2)))\r\n",
        "  model.add(Convolution2D(16,3,activation='relu'))\r\n",
        "  model.add(MaxPooling2D(pool_size=(2,2)))\r\n",
        "  model.add(Flatten())\r\n",
        "  model.add(Dense(10,activation='softmax'))\r\n",
        "  model.compile(optimizer='adam',loss='categorical_crossentropy',metrics=['accuracy'])\r\n",
        "  return model"
      ],
      "execution_count": null,
      "outputs": []
    },
    {
      "cell_type": "code",
      "metadata": {
        "colab": {
          "base_uri": "https://localhost:8080/"
        },
        "id": "97Hmm5vvMvf5",
        "outputId": "d01af055-5c58-4c22-91f1-f6b726fe27d3"
      },
      "source": [
        "model = CNN()\r\n",
        "model.fit(train_data,train_label,epochs=10)"
      ],
      "execution_count": null,
      "outputs": [
        {
          "output_type": "stream",
          "text": [
            "Epoch 1/10\n",
            "1875/1875 [==============================] - 23s 12ms/step - loss: 0.5341 - accuracy: 0.8427\n",
            "Epoch 2/10\n",
            "1875/1875 [==============================] - 22s 12ms/step - loss: 0.0905 - accuracy: 0.9724\n",
            "Epoch 3/10\n",
            "1875/1875 [==============================] - 22s 12ms/step - loss: 0.0723 - accuracy: 0.9771\n",
            "Epoch 4/10\n",
            "1875/1875 [==============================] - 22s 12ms/step - loss: 0.0611 - accuracy: 0.9811\n",
            "Epoch 5/10\n",
            "1875/1875 [==============================] - 31s 16ms/step - loss: 0.0526 - accuracy: 0.9844\n",
            "Epoch 6/10\n",
            "1875/1875 [==============================] - 22s 12ms/step - loss: 0.0447 - accuracy: 0.9860\n",
            "Epoch 7/10\n",
            "1875/1875 [==============================] - 22s 12ms/step - loss: 0.0412 - accuracy: 0.9870\n",
            "Epoch 8/10\n",
            "1875/1875 [==============================] - 23s 12ms/step - loss: 0.0399 - accuracy: 0.9868\n",
            "Epoch 9/10\n",
            "1875/1875 [==============================] - 22s 12ms/step - loss: 0.0374 - accuracy: 0.9891\n",
            "Epoch 10/10\n",
            "1875/1875 [==============================] - 22s 12ms/step - loss: 0.0309 - accuracy: 0.9904\n"
          ],
          "name": "stdout"
        },
        {
          "output_type": "execute_result",
          "data": {
            "text/plain": [
              "<tensorflow.python.keras.callbacks.History at 0x7f28976b77b8>"
            ]
          },
          "metadata": {
            "tags": []
          },
          "execution_count": 15
        }
      ]
    },
    {
      "cell_type": "code",
      "metadata": {
        "id": "V1kHEhEHPWFf"
      },
      "source": [
        "from sklearn.metrics import accuracy_score"
      ],
      "execution_count": null,
      "outputs": []
    },
    {
      "cell_type": "code",
      "metadata": {
        "id": "XRRuFydMSzXD",
        "colab": {
          "base_uri": "https://localhost:8080/"
        },
        "outputId": "19514168-cbd5-4fa8-b38c-c4679c9be3f8"
      },
      "source": [
        "prediction = np.argmax(model.predict(test_data),axis=1)\r\n",
        "test_label = np.argmax(test_label,axis=1)\r\n",
        "print(accuracy_score(test_label,prediction))"
      ],
      "execution_count": 17,
      "outputs": [
        {
          "output_type": "stream",
          "text": [
            "0.9862\n"
          ],
          "name": "stdout"
        }
      ]
    }
  ]
}